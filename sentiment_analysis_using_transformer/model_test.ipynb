{
 "cells": [
  {
   "cell_type": "code",
   "execution_count": 1,
   "metadata": {},
   "outputs": [],
   "source": [
    "import torch\n",
    "import torch.nn as nn\n",
    "from transformers import BertTokenizer,BertModel\n",
    "from sklearn.metrics import accuracy_score"
   ]
  },
  {
   "cell_type": "code",
   "execution_count": 2,
   "metadata": {},
   "outputs": [],
   "source": [
    "device = torch.device('cuda' if torch.cuda.is_available() else 'cpu')"
   ]
  },
  {
   "cell_type": "code",
   "execution_count": 3,
   "metadata": {},
   "outputs": [
    {
     "name": "stdout",
     "output_type": "stream",
     "text": [
      "cpu\n"
     ]
    }
   ],
   "source": [
    "print(device)"
   ]
  },
  {
   "cell_type": "code",
   "execution_count": 32,
   "metadata": {},
   "outputs": [],
   "source": [
    "tokenizer = BertTokenizer.from_pretrained('./bert-tokenizer')"
   ]
  },
  {
   "cell_type": "code",
   "execution_count": 6,
   "metadata": {},
   "outputs": [],
   "source": [
    "class BertSentimentModel(nn.Module):\n",
    "  def __init__(self,model_name='bert-base-uncased',num_labels=3):\n",
    "    super(BertSentimentModel,self).__init__()\n",
    "    self.bert = BertModel.from_pretrained(model_name)\n",
    "    self.dropout = nn.Dropout(0.3)\n",
    "    self.fc = nn.Linear(self.bert.config.hidden_size,num_labels)\n",
    "\n",
    "  def forward(self,input_ids,attention_mask):\n",
    "    outputs = self.bert(input_ids=input_ids,attention_mask=attention_mask)\n",
    "    return self.fc(self.dropout(outputs.pooler_output))"
   ]
  },
  {
   "cell_type": "code",
   "execution_count": 7,
   "metadata": {},
   "outputs": [],
   "source": [
    "model = torch.load('saved_model/bert_sentiment_model.pth',map_location=torch.device('cpu'),weights_only=False)"
   ]
  },
  {
   "cell_type": "code",
   "execution_count": null,
   "metadata": {},
   "outputs": [],
   "source": [
    "# Evaluate model\n",
    "class New:\n",
    "  def evaluate_text(texts,true_labels):\n",
    "    model.eval()\n",
    "    correct,total = 0,0\n",
    "    label_map = {0: 'Negative', 1: 'Neutral', 2: 'Positive'}\n",
    "\n",
    "    with torch.no_grad():\n",
    "      inputs = tokenizer(texts,padding='max_length',max_length=128,truncation=True,return_tensors='pt')\n",
    "      input_ids,attention_mask = inputs['input_ids'].to(device),inputs['attention_mask'].to(device)\n",
    "      outputs = model(input_ids,attention_mask)\n",
    "\n",
    "      if isinstance(outputs,torch.Tensor):\n",
    "        logits = outputs\n",
    "      else:\n",
    "        logits = outputs.logits\n",
    "\n",
    "      probs = nn.functional.softmax(logits,dim=-1)\n",
    "      preds = torch.argmax(logits,dim=1)\n",
    "\n",
    "      for i in range(len(texts)):\n",
    "        pred_label = preds[i].item()\n",
    "        confidence = probs[i][pred_label].item()\n",
    "        true_label = label_map[true_labels[i]]\n",
    "\n",
    "        print(f'Text: {texts[i]}\\nPredicted Label: {label_map[pred_label]}, True Label: ({true_label}), Confidence: {confidence}')\n",
    "      \n",
    "        if label_map[pred_label] == true_label:\n",
    "          correct += 1\n",
    "        total += 1\n",
    "\n",
    "      accuracy = correct/total\n",
    "      print(f'Evaluation Accuracy: {accuracy:.4f}')"
   ]
  },
  {
   "cell_type": "code",
   "execution_count": 150,
   "metadata": {},
   "outputs": [],
   "source": [
    "test_texts = [\n",
    "    'I Love this product! It works perfactly',\n",
    "    'This is the worst service i have ever received',\n",
    "    'The movie was ok, nothing special but not bad at all either.'\n",
    "]"
   ]
  },
  {
   "cell_type": "code",
   "execution_count": 151,
   "metadata": {},
   "outputs": [],
   "source": [
    "test_labels = [2,0,1]"
   ]
  },
  {
   "cell_type": "code",
   "execution_count": 152,
   "metadata": {},
   "outputs": [
    {
     "name": "stdout",
     "output_type": "stream",
     "text": [
      "Text: I Love this product! It works perfactly\n",
      "Predicted Label: Positive, True Label: (Positive), Confidence: 0.9894918203353882\n",
      "Text: This is the worst service i have ever received\n",
      "Predicted Label: Negative, True Label: (Negative), Confidence: 0.999582827091217\n",
      "Text: The movie was ok, nothing special but not bad at all either.\n",
      "Predicted Label: Neutral, True Label: (Neutral), Confidence: 0.830588161945343\n",
      "Evaluation Accuracy: 1.0000\n"
     ]
    }
   ],
   "source": [
    "evaluate_text(test_texts,test_labels)"
   ]
  },
  {
   "cell_type": "code",
   "execution_count": null,
   "metadata": {},
   "outputs": [],
   "source": []
  }
 ],
 "metadata": {
  "kernelspec": {
   "display_name": "Python 3",
   "language": "python",
   "name": "python3"
  },
  "language_info": {
   "codemirror_mode": {
    "name": "ipython",
    "version": 3
   },
   "file_extension": ".py",
   "mimetype": "text/x-python",
   "name": "python",
   "nbconvert_exporter": "python",
   "pygments_lexer": "ipython3",
   "version": "3.12.8"
  }
 },
 "nbformat": 4,
 "nbformat_minor": 2
}
